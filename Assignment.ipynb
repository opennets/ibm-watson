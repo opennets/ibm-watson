{
    "cells": [
        {
            "cell_type": "markdown",
            "metadata": {
                "collapsed": true
            },
            "source": "# My Jupyter Notebook on IBM Watson Studio"
        },
        {
            "cell_type": "markdown",
            "metadata": {},
            "source": "**Mohammad Arafath UZ Zaman Khan**\n<br>Working as Sr. Manager Systems"
        },
        {
            "cell_type": "markdown",
            "metadata": {},
            "source": "*I am interested in data science because i found it is widely use in varius industry. It helps company to make better decisions but also helping them to find better opportunities*"
        },
        {
            "cell_type": "markdown",
            "metadata": {},
            "source": "**I will do some calculation and print the result**"
        },
        {
            "cell_type": "code",
            "execution_count": 15,
            "metadata": {},
            "outputs": [
                {
                    "name": "stdout",
                    "output_type": "stream",
                    "text": "62\n"
                }
            ],
            "source": "print(2+3*(4*5))"
        },
        {
            "cell_type": "markdown",
            "metadata": {},
            "source": "<blockquote>This is the number I used</blockquote>\n1. 2\n<br>2. 3\n<br>3. 4\n<br>4. 5\n"
        },
        {
            "cell_type": "markdown",
            "metadata": {},
            "source": "- 2\n- 3\n- 4\n- 5"
        },
        {
            "cell_type": "markdown",
            "metadata": {},
            "source": " [www.ibm.com](http://www.ibm.com)"
        },
        {
            "cell_type": "code",
            "execution_count": null,
            "metadata": {},
            "outputs": [],
            "source": ""
        }
    ],
    "metadata": {
        "kernelspec": {
            "display_name": "Python 3.10",
            "language": "python",
            "name": "python3"
        },
        "language_info": {
            "codemirror_mode": {
                "name": "ipython",
                "version": 3
            },
            "file_extension": ".py",
            "mimetype": "text/x-python",
            "name": "python",
            "nbconvert_exporter": "python",
            "pygments_lexer": "ipython3",
            "version": "3.10.6"
        }
    },
    "nbformat": 4,
    "nbformat_minor": 1
}